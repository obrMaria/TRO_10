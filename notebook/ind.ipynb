{
 "cells": [
  {
   "cell_type": "markdown",
   "id": "18c055fe",
   "metadata": {},
   "source": [
    "### Индивидуальная задача"
   ]
  },
  {
   "cell_type": "markdown",
   "id": "d911227e",
   "metadata": {},
   "source": [
    "На изображении, получаенной с камеры \n",
    "\n",
    "Необходимо обрезать изображение до размеров знака, повернуть  его на угол, равный наклону знака, улучшить качество изображения и обвести контур знака для его распознавания."
   ]
  },
  {
   "cell_type": "code",
   "execution_count": null,
   "id": "c284c677",
   "metadata": {},
   "outputs": [],
   "source": [
    "import numpy as np\n",
    "import cv2\n",
    "import matplotlib.pyplot as plt"
   ]
  },
  {
   "cell_type": "code",
   "execution_count": null,
   "id": "8328b635",
   "metadata": {},
   "outputs": [],
   "source": [
    "# загрузка изображения\n",
    "imag = cv2.imread('sign.png')\n"
   ]
  },
  {
   "cell_type": "code",
   "execution_count": null,
   "id": "044a1a1a",
   "metadata": {},
   "outputs": [],
   "source": [
    "# обрезаем изображение до размеров знака\n",
    "crop = imag[131:151, 665:690]\n",
    "piece = cv2.resize(crop, (30,35), interpolation=cv2.INTER_LINEAR)\n",
    "\n",
    "(h, w) = piece.shape[:2]"
   ]
  },
  {
   "cell_type": "code",
   "execution_count": null,
   "id": "084217bf",
   "metadata": {},
   "outputs": [],
   "source": [
    "# определяем угол наклона знака \n",
    "angle = 30\n",
    "\n",
    "img = piece"
   ]
  },
  {
   "cell_type": "code",
   "execution_count": null,
   "id": "e34ac989",
   "metadata": {},
   "outputs": [],
   "source": [
    "# получаем размеры изображения\n",
    "(h, w) = img.shape[:2]\n"
   ]
  },
  {
   "cell_type": "code",
   "execution_count": null,
   "id": "44ded248",
   "metadata": {},
   "outputs": [],
   "source": [
    "# получаем координаты центра изображения\n",
    "center = (w // 2, h // 2)\n",
    "# строим матрицу поворота\n",
    "M = cv2.getRotationMatrix2D(center, angle, 1.0)\n",
    "\n",
    "# поворачиваем изображение\n",
    "rotated = cv2.warpAffine(img, M, (w, h))\n"
   ]
  },
  {
   "cell_type": "code",
   "execution_count": null,
   "id": "d7ae3365",
   "metadata": {},
   "outputs": [],
   "source": [
    "# Применение метода \"unsharp masking\"\n",
    "# Применение фильтра Гаусса\n",
    "\n",
    "blur = cv2.GaussianBlur(rotated, (5,5), 0)\n",
    "improved = cv2.addWeighted(rotated, 1.5, blur, -0.5, 0)\n"
   ]
  },
  {
   "cell_type": "code",
   "execution_count": null,
   "id": "595d5278",
   "metadata": {},
   "outputs": [],
   "source": [
    "\n",
    "# переводим изображение в оттенки серого\n",
    "gray = cv2.cvtColor(improved, cv2.COLOR_BGR2GRAY)\n",
    "\n",
    "# бинаризуем изображение\n",
    "thresh = cv2.threshold(gray, 0, 255, cv2.THRESH_BINARY_INV + cv2.THRESH_OTSU)[1]\n"
   ]
  },
  {
   "cell_type": "code",
   "execution_count": null,
   "id": "917e8a07",
   "metadata": {},
   "outputs": [],
   "source": [
    "# находим контуры\n",
    "contours, hierarchy = cv2.findContours(thresh, cv2.RETR_EXTERNAL, cv2.CHAIN_APPROX_SIMPLE)\n",
    "\n",
    "# рисуем контуры на исходном изображении\n",
    "cv2.drawContours(improved, contours, -1, (0, 255, 0), 1)\n"
   ]
  },
  {
   "cell_type": "code",
   "execution_count": null,
   "id": "381dc304",
   "metadata": {},
   "outputs": [],
   "source": [
    "plt.title(\"Improved and Contoured Image\")\n",
    "plt.imshow(improved);"
   ]
  }
 ],
 "metadata": {
  "kernelspec": {
   "display_name": "Python 3 (ipykernel)",
   "language": "python",
   "name": "python3"
  },
  "language_info": {
   "codemirror_mode": {
    "name": "ipython",
    "version": 3
   },
   "file_extension": ".py",
   "mimetype": "text/x-python",
   "name": "python",
   "nbconvert_exporter": "python",
   "pygments_lexer": "ipython3",
   "version": "3.9.13"
  }
 },
 "nbformat": 4,
 "nbformat_minor": 5
}
