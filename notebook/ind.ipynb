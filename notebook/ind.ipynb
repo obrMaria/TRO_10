{
 "cells": [
  {
   "cell_type": "markdown",
   "id": "18c055fe",
   "metadata": {},
   "source": [
    "### Индивидуальная задача"
   ]
  },
  {
   "cell_type": "markdown",
   "id": "d911227e",
   "metadata": {},
   "source": [
    "На изображении, получаенной с камеры \n",
    "\n",
    "Необходимо обрезать изображение до размеров знака, повернуть  его на угол, равный наклону знака, улучшить качество изображения и обвести контур знака для его распознавания."
   ]
  },
  {
   "cell_type": "code",
   "execution_count": 111,
   "id": "c284c677",
   "metadata": {
    "ExecuteTime": {
     "end_time": "2023-05-09T07:48:33.938808Z",
     "start_time": "2023-05-09T07:48:33.926132Z"
    }
   },
   "outputs": [],
   "source": [
    "import numpy as np\n",
    "import cv2\n",
    "import matplotlib.pyplot as plt"
   ]
  },
  {
   "cell_type": "code",
   "execution_count": 126,
   "id": "8328b635",
   "metadata": {
    "ExecuteTime": {
     "end_time": "2023-05-09T07:50:23.521551Z",
     "start_time": "2023-05-09T07:50:23.487434Z"
    }
   },
   "outputs": [],
   "source": [
    "# загрузка изображения\n",
    "imag = cv2.imread('sign.jpg')\n",
    "imag = cv2.cvtColor(imag, cv2.COLOR_BGR2RGB)"
   ]
  },
  {
   "cell_type": "code",
   "execution_count": 143,
   "id": "044a1a1a",
   "metadata": {
    "ExecuteTime": {
     "end_time": "2023-05-09T07:50:46.618074Z",
     "start_time": "2023-05-09T07:50:46.602768Z"
    }
   },
   "outputs": [],
   "source": [
    "# обрезаем изображение до размеров знака\n",
    "crop = imag[193:235, 995:1045]\n",
    "piece = cv2.resize(crop, (50,50), interpolation=cv2.INTER_LINEAR)\n",
    "\n",
    "(h, w) = piece.shape[:2]"
   ]
  },
  {
   "cell_type": "code",
   "execution_count": 165,
   "id": "084217bf",
   "metadata": {
    "ExecuteTime": {
     "end_time": "2023-05-09T07:51:42.676883Z",
     "start_time": "2023-05-09T07:51:42.660807Z"
    }
   },
   "outputs": [],
   "source": [
    "# определяем угол наклона знака \n",
    "angle = 90\n",
    "\n",
    "img = piece"
   ]
  },
  {
   "cell_type": "code",
   "execution_count": 166,
   "id": "e34ac989",
   "metadata": {
    "ExecuteTime": {
     "end_time": "2023-05-09T07:51:42.894189Z",
     "start_time": "2023-05-09T07:51:42.884098Z"
    }
   },
   "outputs": [],
   "source": [
    "# получаем размеры изображения\n",
    "(h, w) = img.shape[:2]\n"
   ]
  },
  {
   "cell_type": "code",
   "execution_count": 167,
   "id": "44ded248",
   "metadata": {
    "ExecuteTime": {
     "end_time": "2023-05-09T07:51:43.095613Z",
     "start_time": "2023-05-09T07:51:43.083618Z"
    }
   },
   "outputs": [],
   "source": [
    "# получаем координаты центра изображения\n",
    "center = (w // 2, h // 2)\n",
    "# строим матрицу поворота\n",
    "M = cv2.getRotationMatrix2D(center, angle, 1.0)\n",
    "\n",
    "# поворачиваем изображение\n",
    "rotated = cv2.warpAffine(img, M, (w, h))\n"
   ]
  },
  {
   "cell_type": "code",
   "execution_count": 168,
   "id": "d7ae3365",
   "metadata": {
    "ExecuteTime": {
     "end_time": "2023-05-09T07:51:43.266776Z",
     "start_time": "2023-05-09T07:51:43.249326Z"
    }
   },
   "outputs": [],
   "source": [
    "# Применение метода \"unsharp masking\"\n",
    "# Применение фильтра Гаусса\n",
    "\n",
    "blur = cv2.GaussianBlur(rotated, (5,5), 0)\n",
    "improved = cv2.addWeighted(rotated, 1.5, blur, -0.5, 0)\n"
   ]
  },
  {
   "cell_type": "code",
   "execution_count": 169,
   "id": "595d5278",
   "metadata": {
    "ExecuteTime": {
     "end_time": "2023-05-09T07:51:43.471393Z",
     "start_time": "2023-05-09T07:51:43.453347Z"
    }
   },
   "outputs": [],
   "source": [
    "\n",
    "# переводим изображение в оттенки серого\n",
    "gray = cv2.cvtColor(improved, cv2.COLOR_BGR2GRAY)\n",
    "\n",
    "# бинаризуем изображение\n",
    "thresh = cv2.threshold(gray, 0, 255, cv2.THRESH_BINARY_INV + cv2.THRESH_OTSU)[1]\n"
   ]
  },
  {
   "cell_type": "code",
   "execution_count": 170,
   "id": "917e8a07",
   "metadata": {
    "ExecuteTime": {
     "end_time": "2023-05-09T07:51:43.643494Z",
     "start_time": "2023-05-09T07:51:43.627368Z"
    }
   },
   "outputs": [],
   "source": [
    "# находим контуры\n",
    "contours, hierarchy = cv2.findContours(thresh, cv2.RETR_EXTERNAL, cv2.CHAIN_APPROX_SIMPLE)\n",
    "\n",
    "# рисуем контуры на исходном изображении\n",
    "cv2.drawContours(improved, contours, -1, (0, 255, 0), 1);\n"
   ]
  },
  {
   "cell_type": "code",
   "execution_count": 171,
   "id": "381dc304",
   "metadata": {
    "ExecuteTime": {
     "end_time": "2023-05-09T07:51:43.956232Z",
     "start_time": "2023-05-09T07:51:43.824750Z"
    }
   },
   "outputs": [
    {
     "data": {
      "image/png": "[encoded data removed]",
      "text/plain": [
       "<Figure size 432x288 with 1 Axes>"
      ]
     },
     "metadata": {
      "needs_background": "light"
     },
     "output_type": "display_data"
    }
   ],
   "source": [
    "plt.title(\"Improved and Contoured Image\")\n",
    "plt.imshow(improved);"
   ]
  },
  {
   "cell_type": "code",
   "execution_count": null,
   "id": "c12b2b33",
   "metadata": {},
   "outputs": [],
   "source": []
  },
  {
   "cell_type": "code",
   "execution_count": null,
   "id": "be26abc4",
   "metadata": {},
   "outputs": [],
   "source": []
  }
 ],
 "metadata": {
  "kernelspec": {
   "display_name": "Python 3 (ipykernel)",
   "language": "python",
   "name": "python3"
  },
  "language_info": {
   "codemirror_mode": {
    "name": "ipython",
    "version": 3
   },
   "file_extension": ".py",
   "mimetype": "text/x-python",
   "name": "python",
   "nbconvert_exporter": "python",
   "pygments_lexer": "ipython3",
   "version": "3.9.12"
  }
 },
 "nbformat": 4,
 "nbformat_minor": 5
}
