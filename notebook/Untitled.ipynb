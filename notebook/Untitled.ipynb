{
 "cells": [
  {
   "cell_type": "markdown",
   "id": "23554fa7",
   "metadata": {},
   "source": [
    "## Примеры лабораторной работы"
   ]
  },
  {
   "cell_type": "markdown",
   "id": "97b4bac6",
   "metadata": {},
   "source": [
    "#### Задание 4.1. Изменить размер изображения."
   ]
  },
  {
   "cell_type": "code",
   "execution_count": null,
   "id": "0b07afa1",
   "metadata": {},
   "outputs": [],
   "source": [
    "import cv2\n",
    "import numpy as np\n",
    "import matplotlib.pyplot as plt"
   ]
  },
  {
   "cell_type": "code",
   "execution_count": null,
   "id": "bae496f8",
   "metadata": {},
   "outputs": [],
   "source": [
    "img = cv2.imread('fish.jpg', 0)"
   ]
  },
  {
   "cell_type": "markdown",
   "id": "5539453d",
   "metadata": {},
   "source": [
    "Первый способ изменения размера задается в процентах"
   ]
  },
  {
   "cell_type": "code",
   "execution_count": null,
   "id": "c27d8a0e",
   "metadata": {},
   "outputs": [],
   "source": [
    "scale_percent = 50 # процент изменения\n",
    "width = int(img.shape[1] * scale_percent / 100)\n",
    "height = int(img.shape[0] * scale_percent / 100)\n",
    "dim = (width, height)\n",
    "resized = cv2.resize(img, dim, interpolation= \n",
    "cv2.INTER_AREA)\n",
    "print('Resized Dimensions : ', resized.shape)\n",
    "plt.imshow(img)"
   ]
  },
  {
   "cell_type": "markdown",
   "id": "de7d2934",
   "metadata": {},
   "source": [
    "Второй способ изменения размера задается вручную"
   ]
  },
  {
   "cell_type": "code",
   "execution_count": null,
   "id": "15ff423a",
   "metadata": {},
   "outputs": [],
   "source": [
    "print('Original Dimensions : ',img.shape)\n",
    "width = 58\n",
    "height = 71\n",
    "dim1 = (width, height)\n",
    "# resize image\n",
    "resized1 = cv2.resize(img, dim1, interpola\u0002tion=cv2.INTER_AREA)\n",
    "print('Resized Dimensions : ', resized1.shape)\n",
    "plt.imshow(img)"
   ]
  },
  {
   "cell_type": "markdown",
   "id": "b7221d32",
   "metadata": {},
   "source": [
    "третий способ: задается коэффициентом масштабирования"
   ]
  },
  {
   "cell_type": "code",
   "execution_count": null,
   "id": "e6929a75",
   "metadata": {},
   "outputs": [],
   "source": [
    "res = cv2.resize(img,None,fx=2, fy=2, interpolation = cv2.INTER_CUBIC)#OR\n",
    "height, width = img.shape[:2]\n",
    "res = cv2.resize(img,(2*width, 2*height), interpolation = cv2.INTER_CUBIC)\n",
    "plt.imshow(img)"
   ]
  },
  {
   "cell_type": "markdown",
   "id": "b4abb62f",
   "metadata": {},
   "source": [
    "#### Задание 4.2. Определить размер изображения и сдвинуть изображение на 100 столбцов и 50 строк."
   ]
  },
  {
   "cell_type": "code",
   "execution_count": null,
   "id": "5c277c25",
   "metadata": {},
   "outputs": [],
   "source": [
    "img = cv2.imread('avto.jpg',0)"
   ]
  },
  {
   "cell_type": "code",
   "execution_count": null,
   "id": "56a9fab7",
   "metadata": {},
   "outputs": [],
   "source": [
    "rows,cols = img.shape\n",
    "M = np.float32([[1,0,100],[0,1,50]])\n",
    "dst = cv2.warpAffine(img,M,(cols,rows))\n",
    "plt.imshow(img)"
   ]
  },
  {
   "cell_type": "markdown",
   "id": "ce1719b7",
   "metadata": {},
   "source": [
    "#### Задание 4.3. Определить размер изображения, его центр и повернуть его на 90 градусов."
   ]
  },
  {
   "cell_type": "code",
   "execution_count": null,
   "id": "13adbd70",
   "metadata": {},
   "outputs": [],
   "source": [
    "rows,cols = img.shape\n",
    "M = cv2.getRotationMatrix2D((cols/2,rows/2),90,1)\n",
    "dst = cv2.warpAffine(img,M,(cols,rows))"
   ]
  },
  {
   "cell_type": "markdown",
   "id": "38e8a20a",
   "metadata": {},
   "source": [
    "#### Задание 4.4. Определить размер изображения, задать 3 точки, изменить их координаты и провести аффинное преобразование всего изображения по этим точкам."
   ]
  },
  {
   "cell_type": "code",
   "execution_count": null,
   "id": "cf711a4f",
   "metadata": {},
   "outputs": [],
   "source": [
    "rows,cols,ch = img.shape\n",
    "\n",
    "pts1 = np.float32([[50,50],[200,50],[50,200]])\n",
    "pts2 = np.float32([[10,100],[200,50],[100,250]])"
   ]
  },
  {
   "cell_type": "code",
   "execution_count": null,
   "id": "84baef77",
   "metadata": {},
   "outputs": [],
   "source": [
    "M = cv2.getAffineTransform(pts1,pts2)\n",
    "dst = cv2.warpAffine(img,M,(cols,rows))"
   ]
  },
  {
   "cell_type": "code",
   "execution_count": null,
   "id": "5122cc4b",
   "metadata": {},
   "outputs": [],
   "source": [
    "plt.subplot(121),plt.imshow(img),plt.title('Input')\n",
    "plt.subplot(122),plt.imshow(dst),plt.title('Output')\n",
    "plt.show()"
   ]
  },
  {
   "cell_type": "markdown",
   "id": "fc74fd6e",
   "metadata": {},
   "source": [
    "#### Задание 4.5. Провести охват изображения в прямоугольник, повернутый так, чтобы площадь этого прямоугольника была минимальной"
   ]
  },
  {
   "cell_type": "code",
   "execution_count": null,
   "id": "550b34e4",
   "metadata": {},
   "outputs": [],
   "source": [
    "ret, thresh = cv2.threshold(img, 127, 255, cv2.THRESH_BINARY)\n",
    "contours, hierarchy = cv2.findContours(thresh, 1, 1)\n",
    "cnt = contours[0]\n",
    "rect = cv2.minAreaRect(cnt)\n",
    "box = cv2.boxPoints(rect)\n",
    "box = np.int0(box)\n",
    "imp = cv2.drawContours(img, [box], 0, (0, 0, 255), 2)\n",
    "plt.imshow(img)"
   ]
  },
  {
   "cell_type": "markdown",
   "id": "952503a6",
   "metadata": {},
   "source": [
    "#### Задание 4.6. Провести охват изображения в круг.\n"
   ]
  },
  {
   "cell_type": "code",
   "execution_count": null,
   "id": "123e9de7",
   "metadata": {},
   "outputs": [],
   "source": [
    "(x,y),radius = cv2.minEnclosingCircle(cnt)\n",
    "center = (int(x),int(y))\n",
    "radius = int(radius)\n",
    "img = cv2.circle(img,center,radius,(0,255,0),2)\n",
    "plt.imshow(img)"
   ]
  },
  {
   "cell_type": "markdown",
   "id": "cbf69470",
   "metadata": {},
   "source": [
    "#### Задание 4.7. Провести охват изображения в эллипс, повернутый так, чтобы площадь этого эллипса была минимальной.\n"
   ]
  },
  {
   "cell_type": "code",
   "execution_count": null,
   "id": "42a4015d",
   "metadata": {},
   "outputs": [],
   "source": [
    "ellipse = cv2.fitEllipse(cnt)\n",
    "imag = cv2.ellipse(img,ellipse,(0,255,0),2\n",
    "plt.imshow(imag)"
   ]
  },
  {
   "cell_type": "markdown",
   "id": "013d8d8a",
   "metadata": {},
   "source": [
    "#### Задание 4.8. Провести прямую линию вдоль оси симметрии изображения.\n"
   ]
  },
  {
   "cell_type": "code",
   "execution_count": null,
   "id": "6bf7d3a4",
   "metadata": {},
   "outputs": [],
   "source": [
    "ret, thresh = cv2.threshold(img, 127, 255, \n",
    "cv2.THRESH_BINARY)\n",
    "inv = cv2.bitwise_not(thresh)\n",
    "cv2.imshow('image', img)\n",
    "contours, hierarchy = cv2.findContours(inv, 1, 1)\n",
    "cnt = contours[0]\n",
    "rows,cols = inv.shape[:2]\n",
    "[vx,vy,x,y] = cv2.fitLine(cnt, \n",
    "cv2.DIST_L2,0,0.01,0.01)\n",
    "lefty = int((-x*vy/vx) + y)\n",
    "righty = int(((cols-x)*vy/vx)+y)\n",
    "img = cv2.line(img,(cols-1,righty),(0,lefty),(0,255,0),2)\n",
    "plt.imshow(img)"
   ]
  },
  {
   "cell_type": "markdown",
   "id": "0413485d",
   "metadata": {},
   "source": [
    "#### Задание 4.9. Нарисовать контур, охватывающий изображение, толщиной 2, вывести полученное изображение на экран.\n"
   ]
  },
  {
   "cell_type": "code",
   "execution_count": null,
   "id": "80a7d10b",
   "metadata": {},
   "outputs": [],
   "source": [
    "image= cv2.imread('bin.jpg')\n",
    "original_image= image\n",
    "gray= cv2.cvtColor(image,cv2.COLOR_BGR2GRAY)\n",
    "edges= cv2.Canny(gray, 50,200)\n",
    "contours, hierarchy= cv2.findContours(edges.copy(), \n",
    "cv2.RETR_EXTERNAL, cv2.CHAIN_APPROX_NONE)\n",
    "for cnt in contours:\n",
    "    hull= cv2.convexHull(cnt)\n",
    "    cv2.drawContours(image, [hull],0,(0,255,0),2)\n",
    "plt.imshow(img)\n"
   ]
  },
  {
   "cell_type": "markdown",
   "id": "59cb22ad",
   "metadata": {},
   "source": [
    "#### Задание 4.10. Выполнить аппроксимацию контура, полагая epsilon =1%, epsilon=5% и epsilon=10%.\n"
   ]
  },
  {
   "cell_type": "code",
   "execution_count": null,
   "id": "55ba008a",
   "metadata": {},
   "outputs": [],
   "source": [
    "ret, thresh = cv2.threshold(img, 0, 255, 0)\n",
    "contours, hierarchy = cv2.findContours(thresh, 2, 3)\n",
    "imag = cv2.imread('bin5.jpg')\n",
    "plt.subplot(1,3,1)\n",
    "plt.title('Original')\n",
    "plt.imshow(img,'gray')\n",
    "plt.subplot(1,3,2)\n",
    "plt.title('Epsilon = 10%')\n",
    "for i in range(np.size(contours)):\n",
    "    cnt = contours [i]\n",
    "    epsilon = 0.01 * cv2.arcLength(cnt, True)\n",
    "    approx = cv2.approxPolyDP(cnt,epsilon,True)\n",
    "    cv2.drawContours(imag,[approx],-1,(255,255,255),2)\n",
    "plt.imshow(imag)\n",
    "plt.subplot(1,3,3)\n",
    "plt.title('Epsilon = 1%')\n",
    "imAg = cv2.imread('bin5.jpg')\n",
    "for i in range(np.size(contours)):\n",
    "    cnt = contours [i]\n",
    "    epsilon = 0.1 * cv2.arcLength(cnt, True)\n",
    "    approx = cv2.approxPolyDP(cnt,epsilon,True)\n",
    "    cv2.drawContours(imAg,[approx],-1,(255,255,255),2)\n",
    "plt.imshow(imAg)\n",
    "plt.show()\n"
   ]
  },
  {
   "cell_type": "markdown",
   "id": "fe71c959",
   "metadata": {},
   "source": [
    "#### Задание 4.11. Нарисовать прямоугольник в месте, где нужно вырезать фрагмент (см. рис. 3), вывести на экран фрагмент, ограниченный прямоугольником, увеличив этот фрагмент. Определить размер изображения, его центр и повернуть его на 90 градусов.\n"
   ]
  },
  {
   "cell_type": "code",
   "execution_count": null,
   "id": "3fe5551f",
   "metadata": {},
   "outputs": [],
   "source": [
    "img = cv2.imread('avto4.jpg', 0)\n",
    "image = cv2.rectangle(img, (230, 160), (350, 215), (0, 0, 255), 2)  \n",
    "cv2.imshow(\"Image\", image)\n",
    "crop = img[160:215, 230:350] \n",
    "piece = cv2.resize(crop, (200,100),\n",
    "interpolation=cv2.INTER_LINEAR)\n",
    "cv2.imshow(\"Area\", piece)\n",
    "(h, w) = piece.shape[:2] \n",
    "print(w,h)\n",
    "center = (w / 2, h / 2) \n",
    "M = cv2.getRotationMatrix2D(center, 90, 1.0) \n",
    "rotated = cv2.warpAffine(piece, M, (150, 200))\n",
    "plt.imshow(img)"
   ]
  }
 ],
 "metadata": {
  "kernelspec": {
   "display_name": "Python 3 (ipykernel)",
   "language": "python",
   "name": "python3"
  },
  "language_info": {
   "codemirror_mode": {
    "name": "ipython",
    "version": 3
   },
   "file_extension": ".py",
   "mimetype": "text/x-python",
   "name": "python",
   "nbconvert_exporter": "python",
   "pygments_lexer": "ipython3",
   "version": "3.9.13"
  }
 },
 "nbformat": 4,
 "nbformat_minor": 5
}
