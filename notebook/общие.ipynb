{
 "cells": [
  {
   "cell_type": "markdown",
   "id": "23554fa7",
   "metadata": {},
   "source": [
    "## Примеры лабораторной работы"
   ]
  },
  {
   "cell_type": "markdown",
   "id": "97b4bac6",
   "metadata": {},
   "source": [
    "#### Задание 4.1. Изменить размер изображения."
   ]
  },
  {
   "cell_type": "code",
   "execution_count": 6,
   "id": "0b07afa1",
   "metadata": {},
   "outputs": [
    {
     "ename": "ModuleNotFoundError",
     "evalue": "No module named 'cv2'",
     "output_type": "error",
     "traceback": [
      "\u001b[1;31m---------------------------------------------------------------------------\u001b[0m",
      "\u001b[1;31mModuleNotFoundError\u001b[0m                       Traceback (most recent call last)",
      "\u001b[1;32m~\\AppData\\Local\\Temp\\ipykernel_4192\\1506572337.py\u001b[0m in \u001b[0;36m<module>\u001b[1;34m\u001b[0m\n\u001b[1;32m----> 1\u001b[1;33m \u001b[1;32mimport\u001b[0m \u001b[0mcv2\u001b[0m\u001b[1;33m\u001b[0m\u001b[1;33m\u001b[0m\u001b[0m\n\u001b[0m\u001b[0;32m      2\u001b[0m \u001b[1;32mimport\u001b[0m \u001b[0mnumpy\u001b[0m \u001b[1;32mas\u001b[0m \u001b[0mnp\u001b[0m\u001b[1;33m\u001b[0m\u001b[1;33m\u001b[0m\u001b[0m\n\u001b[0;32m      3\u001b[0m \u001b[1;32mimport\u001b[0m \u001b[0mmatplotlib\u001b[0m\u001b[1;33m.\u001b[0m\u001b[0mpyplot\u001b[0m \u001b[1;32mas\u001b[0m \u001b[0mplt\u001b[0m\u001b[1;33m\u001b[0m\u001b[1;33m\u001b[0m\u001b[0m\n",
      "\u001b[1;31mModuleNotFoundError\u001b[0m: No module named 'cv2'"
     ]
    }
   ],
   "source": [
    "import cv2\n",
    "import numpy as np\n",
    "import matplotlib.pyplot as plt"
   ]
  },
  {
   "cell_type": "code",
   "execution_count": 2,
   "id": "a6bcda52",
   "metadata": {},
   "outputs": [],
   "source": [
    "def img_print(orig, res):\n",
    "    pose = [121, 122]\n",
    "    signature = [\"Оригинал\", \"Измененное\"]\n",
    "    img = [orig, res]\n",
    "    i = 0\n",
    "    while i < 2:\n",
    "        plt.subplot(pose[i])\n",
    "        plt.title(signature[i])\n",
    "        plt.imshow(img[i])\n",
    "        i += 1\n",
    "    return 0"
   ]
  },
  {
   "cell_type": "code",
   "execution_count": 3,
   "id": "bae496f8",
   "metadata": {},
   "outputs": [
    {
     "ename": "error",
     "evalue": "OpenCV(4.7.0) D:\\a\\opencv-python\\opencv-python\\opencv\\modules\\imgproc\\src\\color.cpp:182: error: (-215:Assertion failed) !_src.empty() in function 'cv::cvtColor'\n",
     "output_type": "error",
     "traceback": [
      "\u001b[1;31m---------------------------------------------------------------------------\u001b[0m",
      "\u001b[1;31merror\u001b[0m                                     Traceback (most recent call last)",
      "\u001b[1;32m~\\AppData\\Local\\Temp\\ipykernel_12016\\92836010.py\u001b[0m in \u001b[0;36m<module>\u001b[1;34m\u001b[0m\n\u001b[0;32m      1\u001b[0m \u001b[0mimage\u001b[0m \u001b[1;33m=\u001b[0m \u001b[0mcv2\u001b[0m\u001b[1;33m.\u001b[0m\u001b[0mimread\u001b[0m\u001b[1;33m(\u001b[0m\u001b[1;34m'fish.jpg'\u001b[0m\u001b[1;33m,\u001b[0m\u001b[1;36m0\u001b[0m\u001b[1;33m)\u001b[0m\u001b[1;33m\u001b[0m\u001b[1;33m\u001b[0m\u001b[0m\n\u001b[0;32m      2\u001b[0m \u001b[0mimg\u001b[0m \u001b[1;33m=\u001b[0m \u001b[0mcv2\u001b[0m\u001b[1;33m.\u001b[0m\u001b[0mimread\u001b[0m\u001b[1;33m(\u001b[0m\u001b[1;34m'fish.jpg'\u001b[0m\u001b[1;33m,\u001b[0m\u001b[1;36m1\u001b[0m\u001b[1;33m)\u001b[0m\u001b[1;33m\u001b[0m\u001b[1;33m\u001b[0m\u001b[0m\n\u001b[1;32m----> 3\u001b[1;33m \u001b[0mimg\u001b[0m \u001b[1;33m=\u001b[0m \u001b[0mcv2\u001b[0m\u001b[1;33m.\u001b[0m\u001b[0mcvtColor\u001b[0m\u001b[1;33m(\u001b[0m\u001b[0mimg\u001b[0m\u001b[1;33m,\u001b[0m \u001b[0mcv2\u001b[0m\u001b[1;33m.\u001b[0m\u001b[0mCOLOR_BGR2RGB\u001b[0m\u001b[1;33m)\u001b[0m\u001b[1;33m\u001b[0m\u001b[1;33m\u001b[0m\u001b[0m\n\u001b[0m",
      "\u001b[1;31merror\u001b[0m: OpenCV(4.7.0) D:\\a\\opencv-python\\opencv-python\\opencv\\modules\\imgproc\\src\\color.cpp:182: error: (-215:Assertion failed) !_src.empty() in function 'cv::cvtColor'\n"
     ]
    }
   ],
   "source": [
    "image = cv2.imread('fish.jpg',0)\n",
    "img = cv2.imread('fish.jpg',1)\n",
    "img = cv2.cvtColor(img, cv2.COLOR_BGR2RGB)"
   ]
  },
  {
   "cell_type": "markdown",
   "id": "5539453d",
   "metadata": {},
   "source": [
    "Первый способ изменения размера задается в процентах"
   ]
  },
  {
   "cell_type": "code",
   "execution_count": 3,
   "id": "c27d8a0e",
   "metadata": {},
   "outputs": [
    {
     "ename": "AttributeError",
     "evalue": "'NoneType' object has no attribute 'shape'",
     "output_type": "error",
     "traceback": [
      "\u001b[1;31m---------------------------------------------------------------------------\u001b[0m",
      "\u001b[1;31mAttributeError\u001b[0m                            Traceback (most recent call last)",
      "\u001b[1;32m~\\AppData\\Local\\Temp\\ipykernel_452\\2140047833.py\u001b[0m in \u001b[0;36m<module>\u001b[1;34m\u001b[0m\n\u001b[0;32m      1\u001b[0m \u001b[0mscale_percent\u001b[0m \u001b[1;33m=\u001b[0m \u001b[1;36m50\u001b[0m  \u001b[1;31m# процент изменения\u001b[0m\u001b[1;33m\u001b[0m\u001b[1;33m\u001b[0m\u001b[0m\n\u001b[1;32m----> 2\u001b[1;33m \u001b[0mwidth\u001b[0m \u001b[1;33m=\u001b[0m \u001b[0mint\u001b[0m\u001b[1;33m(\u001b[0m\u001b[0mimg\u001b[0m\u001b[1;33m.\u001b[0m\u001b[0mshape\u001b[0m\u001b[1;33m[\u001b[0m\u001b[1;36m1\u001b[0m\u001b[1;33m]\u001b[0m \u001b[1;33m*\u001b[0m \u001b[0mscale_percent\u001b[0m \u001b[1;33m/\u001b[0m \u001b[1;36m100\u001b[0m\u001b[1;33m)\u001b[0m\u001b[1;33m\u001b[0m\u001b[1;33m\u001b[0m\u001b[0m\n\u001b[0m\u001b[0;32m      3\u001b[0m \u001b[0mheight\u001b[0m \u001b[1;33m=\u001b[0m \u001b[0mint\u001b[0m\u001b[1;33m(\u001b[0m\u001b[0mimg\u001b[0m\u001b[1;33m.\u001b[0m\u001b[0mshape\u001b[0m\u001b[1;33m[\u001b[0m\u001b[1;36m0\u001b[0m\u001b[1;33m]\u001b[0m \u001b[1;33m*\u001b[0m \u001b[0mscale_percent\u001b[0m \u001b[1;33m/\u001b[0m \u001b[1;36m100\u001b[0m\u001b[1;33m)\u001b[0m\u001b[1;33m\u001b[0m\u001b[1;33m\u001b[0m\u001b[0m\n\u001b[0;32m      4\u001b[0m \u001b[0mdim\u001b[0m \u001b[1;33m=\u001b[0m \u001b[1;33m(\u001b[0m\u001b[0mwidth\u001b[0m\u001b[1;33m,\u001b[0m \u001b[0mheight\u001b[0m\u001b[1;33m)\u001b[0m\u001b[1;33m\u001b[0m\u001b[1;33m\u001b[0m\u001b[0m\n\u001b[0;32m      5\u001b[0m \u001b[1;33m\u001b[0m\u001b[0m\n",
      "\u001b[1;31mAttributeError\u001b[0m: 'NoneType' object has no attribute 'shape'"
     ]
    }
   ],
   "source": [
    "scale_percent = 50  # процент изменения\n",
    "width = int(img.shape[1] * scale_percent / 100)\n",
    "height = int(img.shape[0] * scale_percent / 100)\n",
    "dim = (width, height)\n",
    "\n",
    "resized = cv2.resize(img, dim, interpolation=cv2.INTER_AREA)\n",
    "print('Resized Dimensions : ', resized.shape)\n",
    "img_print(img, resized);"
   ]
  },
  {
   "cell_type": "markdown",
   "id": "de7d2934",
   "metadata": {},
   "source": [
    "Второй способ изменения размера задается вручную"
   ]
  },
  {
   "cell_type": "code",
   "execution_count": 9,
   "id": "15ff423a",
   "metadata": {},
   "outputs": [
    {
     "ename": "AttributeError",
     "evalue": "'NoneType' object has no attribute 'shape'",
     "output_type": "error",
     "traceback": [
      "\u001b[1;31m---------------------------------------------------------------------------\u001b[0m",
      "\u001b[1;31mAttributeError\u001b[0m                            Traceback (most recent call last)",
      "\u001b[1;32m~\\AppData\\Local\\Temp\\ipykernel_11620\\2291658610.py\u001b[0m in \u001b[0;36m<module>\u001b[1;34m\u001b[0m\n\u001b[1;32m----> 1\u001b[1;33m \u001b[0mprint\u001b[0m\u001b[1;33m(\u001b[0m\u001b[1;34m'Original Dimensions : '\u001b[0m\u001b[1;33m,\u001b[0m\u001b[0mimg\u001b[0m\u001b[1;33m.\u001b[0m\u001b[0mshape\u001b[0m\u001b[1;33m)\u001b[0m\u001b[1;33m\u001b[0m\u001b[1;33m\u001b[0m\u001b[0m\n\u001b[0m\u001b[0;32m      2\u001b[0m \u001b[0mwidth\u001b[0m \u001b[1;33m=\u001b[0m \u001b[1;36m58\u001b[0m\u001b[1;33m\u001b[0m\u001b[1;33m\u001b[0m\u001b[0m\n\u001b[0;32m      3\u001b[0m \u001b[0mheight\u001b[0m \u001b[1;33m=\u001b[0m \u001b[1;36m71\u001b[0m\u001b[1;33m\u001b[0m\u001b[1;33m\u001b[0m\u001b[0m\n\u001b[0;32m      4\u001b[0m \u001b[0mdim1\u001b[0m \u001b[1;33m=\u001b[0m \u001b[1;33m(\u001b[0m\u001b[0mwidth\u001b[0m\u001b[1;33m,\u001b[0m \u001b[0mheight\u001b[0m\u001b[1;33m)\u001b[0m\u001b[1;33m\u001b[0m\u001b[1;33m\u001b[0m\u001b[0m\n\u001b[0;32m      5\u001b[0m \u001b[1;33m\u001b[0m\u001b[0m\n",
      "\u001b[1;31mAttributeError\u001b[0m: 'NoneType' object has no attribute 'shape'"
     ]
    }
   ],
   "source": [
    "print('Original Dimensions : ',img.shape)\n",
    "width = 58\n",
    "height = 71\n",
    "dim1 = (width, height)\n",
    "\n",
    "# resize image\n",
    "resized1 = cv2.resize(img, dim1, interpolation=cv2.INTER_AREA)\n",
    "print('Resized Dimensions : ', resized1.shape)\n",
    "img_print(img, resized1);"
   ]
  },
  {
   "cell_type": "markdown",
   "id": "b7221d32",
   "metadata": {},
   "source": [
    "третий способ: задается коэффициентом масштабирования"
   ]
  },
  {
   "cell_type": "code",
   "execution_count": 9,
   "id": "e6929a75",
   "metadata": {},
   "outputs": [
    {
     "ename": "error",
     "evalue": "OpenCV(4.7.0) D:\\a\\opencv-python\\opencv-python\\opencv\\modules\\imgproc\\src\\resize.cpp:4062: error: (-215:Assertion failed) !ssize.empty() in function 'cv::resize'\n",
     "output_type": "error",
     "traceback": [
      "\u001b[1;31m---------------------------------------------------------------------------\u001b[0m",
      "\u001b[1;31merror\u001b[0m                                     Traceback (most recent call last)",
      "\u001b[1;32m~\\AppData\\Local\\Temp\\ipykernel_12036\\2787050070.py\u001b[0m in \u001b[0;36m<module>\u001b[1;34m\u001b[0m\n\u001b[1;32m----> 1\u001b[1;33m \u001b[0mres\u001b[0m \u001b[1;33m=\u001b[0m \u001b[0mcv2\u001b[0m\u001b[1;33m.\u001b[0m\u001b[0mresize\u001b[0m\u001b[1;33m(\u001b[0m\u001b[0mimg\u001b[0m\u001b[1;33m,\u001b[0m\u001b[1;32mNone\u001b[0m\u001b[1;33m,\u001b[0m\u001b[0mfx\u001b[0m\u001b[1;33m=\u001b[0m\u001b[1;36m2\u001b[0m\u001b[1;33m,\u001b[0m \u001b[0mfy\u001b[0m\u001b[1;33m=\u001b[0m\u001b[1;36m2\u001b[0m\u001b[1;33m,\u001b[0m \u001b[0minterpolation\u001b[0m \u001b[1;33m=\u001b[0m \u001b[0mcv2\u001b[0m\u001b[1;33m.\u001b[0m\u001b[0mINTER_CUBIC\u001b[0m\u001b[1;33m)\u001b[0m\u001b[1;33m\u001b[0m\u001b[1;33m\u001b[0m\u001b[0m\n\u001b[0m\u001b[0;32m      2\u001b[0m \u001b[1;33m\u001b[0m\u001b[0m\n\u001b[0;32m      3\u001b[0m \u001b[1;31m#OR\u001b[0m\u001b[1;33m\u001b[0m\u001b[1;33m\u001b[0m\u001b[0m\n\u001b[0;32m      4\u001b[0m \u001b[1;31m#height, width = img.shape[:2]\u001b[0m\u001b[1;33m\u001b[0m\u001b[1;33m\u001b[0m\u001b[0m\n\u001b[0;32m      5\u001b[0m \u001b[1;31m#res = cv2.resize(img,(2*width, 2*height), interpolation = cv2.INTER_CUBIC)\u001b[0m\u001b[1;33m\u001b[0m\u001b[1;33m\u001b[0m\u001b[0m\n",
      "\u001b[1;31merror\u001b[0m: OpenCV(4.7.0) D:\\a\\opencv-python\\opencv-python\\opencv\\modules\\imgproc\\src\\resize.cpp:4062: error: (-215:Assertion failed) !ssize.empty() in function 'cv::resize'\n"
     ]
    }
   ],
   "source": [
    "res = cv2.resize(img,None,fx=2, fy=2, interpolation = cv2.INTER_CUBIC)\n",
    "\n",
    "#OR\n",
    "#height, width = img.shape[:2]\n",
    "#res = cv2.resize(img,(2*width, 2*height), interpolation = cv2.INTER_CUBIC)\n",
    "img_print(img, res);"
   ]
  },
  {
   "cell_type": "markdown",
   "id": "b4abb62f",
   "metadata": {},
   "source": [
    "#### Задание 4.2. Определить размер изображения и сдвинуть изображение на 100 столбцов и 50 строк."
   ]
  },
  {
   "cell_type": "code",
   "execution_count": null,
   "id": "56a9fab7",
   "metadata": {},
   "outputs": [],
   "source": [
    "rows,cols,colors = img.shape\n",
    "M = np.float32([[1,0,100],[0,1,50]])\n",
    "dst = cv2.warpAffine(img,M,(cols,rows))\n",
    "plt.imshow(dst);"
   ]
  },
  {
   "cell_type": "markdown",
   "id": "ce1719b7",
   "metadata": {},
   "source": [
    "#### Задание 4.3. Определить размер изображения, его центр и повернуть его на 90 градусов."
   ]
  },
  {
   "cell_type": "code",
   "execution_count": null,
   "id": "13adbd70",
   "metadata": {},
   "outputs": [],
   "source": [
    "M = cv2.getRotationMatrix2D((cols/2,rows/2),90,1)\n",
    "dst = cv2.warpAffine(img,M,(cols,rows))\n",
    "plt.imshow(dst);"
   ]
  },
  {
   "cell_type": "markdown",
   "id": "38e8a20a",
   "metadata": {},
   "source": [
    "#### Задание 4.4. Определить размер изображения, задать 3 точки, изменить их координаты и провести аффинное преобразование всего изображения по этим точкам."
   ]
  },
  {
   "cell_type": "code",
   "execution_count": null,
   "id": "84baef77",
   "metadata": {},
   "outputs": [],
   "source": [
    "pts1 = np.float32([[50,50],[200,50],[50,200]])\n",
    "pts2 = np.float32([[10,100],[200,50],[100,250]])\n",
    "\n",
    "M = cv2.getAffineTransform(pts1,pts2)\n",
    "dst = cv2.warpAffine(img,M,(cols,rows))\n",
    "\n",
    "plt.subplot(121),plt.imshow(img),plt.title('Input')\n",
    "plt.subplot(122),plt.imshow(dst),plt.title('Output')\n",
    "plt.show()"
   ]
  },
  {
   "cell_type": "markdown",
   "id": "fc74fd6e",
   "metadata": {},
   "source": [
    "#### Задание 4.5. Провести охват изображения в прямоугольник, повернутый так, чтобы площадь этого прямоугольника была минимальной"
   ]
  },
  {
   "cell_type": "code",
   "execution_count": null,
   "id": "c5903c49",
   "metadata": {},
   "outputs": [],
   "source": [
    "image = cv2.imread('ch_b.jpg',0)\n",
    "plt.axis('off')\n",
    "plt.imshow(image);"
   ]
  },
  {
   "cell_type": "code",
   "execution_count": null,
   "id": "9da49148",
   "metadata": {},
   "outputs": [],
   "source": [
    "(x,y),radius = cv2.minEnclosingCircle(cnt)\n",
    "center = (int(x),int(y))\n",
    "radius = int(radius)\n",
    "\n",
    "imp = cv2.circle(image,center,radius,(0,255,0),2)\n",
    "imp = cv2.cvtColor(imp, cv2.COLOR_BGR2RGB)\n",
    "\n",
    "plt.axis('off')\n",
    "plt.imshow(imp);"
   ]
  },
  {
   "cell_type": "markdown",
   "id": "952503a6",
   "metadata": {},
   "source": [
    "#### Задание 4.6. Провести охват изображения в круг.\n"
   ]
  },
  {
   "cell_type": "code",
   "execution_count": null,
   "id": "123e9de7",
   "metadata": {},
   "outputs": [],
   "source": [
    "(x,y),radius = cv2.minEnclosingCircle(cnt)\n",
    "center = (int(x),int(y))\n",
    "radius = int(radius)\n",
    "\n",
    "imp = cv2.circle(image,center,radius,(0,255,0),2)\n",
    "imp = cv2.cvtColor(imp, cv2.COLOR_BGR2RGB)\n",
    "\n",
    "plt.axis('off')\n",
    "plt.imshow(imp);"
   ]
  },
  {
   "cell_type": "markdown",
   "id": "cbf69470",
   "metadata": {},
   "source": [
    "#### Задание 4.7. Провести охват изображения в эллипс, повернутый так, чтобы площадь этого эллипса была минимальной.\n"
   ]
  },
  {
   "cell_type": "code",
   "execution_count": null,
   "id": "42a4015d",
   "metadata": {},
   "outputs": [],
   "source": [
    "ellipse = cv2.fitEllipse(cnt)\n",
    "imag = cv2.ellipse(image,ellipse,(0,255,0),2)\n",
    "\n",
    "imag = cv2.cvtColor(imag, cv2.COLOR_BGR2RGB)\n",
    "plt.axis('off')\n",
    "plt.imshow(imag);"
   ]
  },
  {
   "cell_type": "markdown",
   "id": "013d8d8a",
   "metadata": {},
   "source": [
    "#### Задание 4.8. Провести прямую линию вдоль оси симметрии изображения.\n"
   ]
  },
  {
   "cell_type": "code",
   "execution_count": null,
   "id": "6bf7d3a4",
   "metadata": {},
   "outputs": [],
   "source": [
    "ret, thresh = cv2.threshold(img, 127, 255, cv2.THRESH_BINARY)\n",
    "inv = cv2.bitwise_not(thresh)\n",
    "\n",
    "contours, hierarchy = cv2.findContours(inv, 1, 1)\n",
    "cnt = contours[0]\n",
    "rows,cols = inv.shape[:2]\n",
    "\n",
    "[vx,vy,x,y] = cv2.fitLine(cnt, cv2.DIST_L2,0,0.01,0.01)\n",
    "\n",
    "lefty = int((-x*vy/vx) + y)\n",
    "righty = int(((cols-x)*vy/vx)+y)\n",
    "\n",
    "img = cv2.line(img,(cols-1,righty),(0,lefty),(0,255,0),2)\n",
    "img = cv2.cvtColor(img, cv2.COLOR_BGR2RGB)\n",
    "plt.axis('off')\n",
    "plt.imshow(img);"
   ]
  },
  {
   "cell_type": "markdown",
   "id": "0413485d",
   "metadata": {},
   "source": [
    "#### Задание 4.9. Нарисовать контур, охватывающий изображение, толщиной 2, вывести полученное изображение на экран.\n"
   ]
  },
  {
   "cell_type": "code",
   "execution_count": null,
   "id": "80a7d10b",
   "metadata": {},
   "outputs": [],
   "source": [
    "original_image = image\n",
    "gray = cv2.cvtColor(image,cv2.COLOR_BGR2GRAY)\n",
    "edges = cv2.Canny(gray, 50,200)\n",
    "contours, hierarchy= cv2.findContours(edges.copy(), \n",
    "cv2.RETR_EXTERNAL, cv2.CHAIN_APPROX_NONE)\n",
    "for cnt in contours:\n",
    "    hull= cv2.convexHull(cnt)\n",
    "    cv2.drawContours(image, [hull],0,(0,255,0),2)\n",
    "plt.axis('off')\n",
    "plt.imshow(image);"
   ]
  },
  {
   "cell_type": "markdown",
   "id": "59cb22ad",
   "metadata": {},
   "source": [
    "#### Задание 4.10. Выполнить аппроксимацию контура, полагая epsilon =1%, epsilon=5% и epsilon=10%.\n"
   ]
  },
  {
   "cell_type": "code",
   "execution_count": null,
   "id": "55ba008a",
   "metadata": {},
   "outputs": [],
   "source": [
    "img = cv2.imread('ch_b.jpg', 0)\n",
    "\n",
    "ret, thresh = cv2.threshold(img, 0, 255, 0)\n",
    "contours, hierarchy = cv2.findContours(thresh, 2, 3)\n",
    "\n",
    "imag = cv2.imread('ch_b.jpg')\n",
    "\n",
    "f = plt.figure(figsize=(20,20))\n",
    "\n",
    "plt.subplot(1,3,1)\n",
    "plt.title('Original')\n",
    "plt.imshow(img,'gray')\n",
    "\n",
    "plt.subplot(1,3,2)\n",
    "plt.title('Epsilon = 10%')\n",
    "for i in range(np.size(contours)):\n",
    "    cnt = contours [i]\n",
    "    epsilon = 0.01 * cv2.arcLength(cnt, True)\n",
    "    approx = cv2.approxPolyDP(cnt,epsilon,True)\n",
    "    cv2.drawContours(imag,[approx],-1,(0,255,255),2)\n",
    "plt.imshow(imag)\n",
    "\n",
    "plt.subplot(1,3,3)\n",
    "plt.title('Epsilon = 1%')\n",
    "imAg = cv2.imread('ch_b.jpg')\n",
    "for i in range(np.size(contours)):\n",
    "    cnt = contours [i]\n",
    "    epsilon = 0.1 * cv2.arcLength(cnt, True)\n",
    "    approx = cv2.approxPolyDP(cnt,epsilon,True)\n",
    "    cv2.drawContours(imAg,[approx],-1,(0,255,255),2)\n",
    "plt.imshow(imAg)\n",
    "plt.show()"
   ]
  },
  {
   "cell_type": "markdown",
   "id": "fe71c959",
   "metadata": {},
   "source": [
    "#### Задание 4.11. Нарисовать прямоугольник в месте, где нужно вырезать фрагмент (см. рис. 3), вывести на экран фрагмент, ограниченный прямоугольником, увеличив этот фрагмент. Определить размер изображения, его центр и повернуть его на 90 градусов.\n"
   ]
  },
  {
   "cell_type": "code",
   "execution_count": null,
   "id": "3fe5551f",
   "metadata": {},
   "outputs": [],
   "source": [
    "img = cv2.imread('avto.jpg', 1)\n",
    "img = cv2.cvtColor(img, cv2.COLOR_BGR2RGB)\n",
    "\n",
    "image = cv2.rectangle(img, (300, 500), (550, 550), (0, 0, 255), 2)\n",
    "\n",
    "plt.imshow(image)"
   ]
  },
  {
   "cell_type": "code",
   "execution_count": null,
   "id": "6c97b393",
   "metadata": {},
   "outputs": [],
   "source": [
    "crop = img[500:550, 300:500]\n",
    "piece = cv2.resize(crop, (200,100), interpolation=cv2.INTER_LINEAR)\n",
    "\n",
    "(h, w) = piece.shape[:2]\n",
    "print(w,h)\n",
    "\n",
    "plt.imshow(piece);"
   ]
  },
  {
   "cell_type": "code",
   "execution_count": null,
   "id": "e062226b",
   "metadata": {},
   "outputs": [],
   "source": [
    "center = (w / 2, h / 2) \n",
    "M = cv2.getRotationMatrix2D(center, 90, 1) \n",
    "rotated = cv2.warpAffine(piece, M, (150, 150))\n",
    "\n",
    "plt.imshow(rotated)"
   ]
  }
 ],
 "metadata": {
  "kernelspec": {
   "display_name": "Python 3 (ipykernel)",
   "language": "python",
   "name": "python3"
  },
  "language_info": {
   "codemirror_mode": {
    "name": "ipython",
    "version": 3
   },
   "file_extension": ".py",
   "mimetype": "text/x-python",
   "name": "python",
   "nbconvert_exporter": "python",
   "pygments_lexer": "ipython3",
   "version": "3.9.13"
  }
 },
 "nbformat": 4,
 "nbformat_minor": 5
}
